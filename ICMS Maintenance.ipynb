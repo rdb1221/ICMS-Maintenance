{
 "cells": [
  {
   "cell_type": "markdown",
   "metadata": {},
   "source": [
    "# ICMS Maintenance"
   ]
  },
  {
   "cell_type": "code",
   "execution_count": null,
   "metadata": {},
   "outputs": [],
   "source": [
    "import numpy as np\n",
    "import pandas as pd\n",
    "from matplotlib import pyplot as plt"
   ]
  },
  {
   "cell_type": "code",
   "execution_count": null,
   "metadata": {},
   "outputs": [],
   "source": [
    "icms1 = pd.read_csv('/Users/ryanbreier/RB.Data & Programming/Data Science/Testing/icms_maintenance/icms_export_1.csv')\n",
    "icms2 = pd.read_csv('/Users/ryanbreier/RB.Data & Programming/Data Science/Testing/icms_maintenance/icms_export_2.csv')"
   ]
  },
  {
   "cell_type": "markdown",
   "metadata": {},
   "source": [
    "#### Inspect dataframe"
   ]
  },
  {
   "cell_type": "code",
   "execution_count": null,
   "metadata": {
    "scrolled": false
   },
   "outputs": [],
   "source": [
    "# icms1.head()\n",
    "# col_list = icms1.columns.tolist()\n",
    "# col_list\n",
    "\n",
    "# icms1.dtypes\n",
    "# icms1.describe()\n",
    "# icms1.shape # (row_count, column_count)\n",
    "\n",
    "# icms1.shape[0] ## call rows_count\n",
    "# icms1.shape[1] ## call columns_count"
   ]
  },
  {
   "cell_type": "markdown",
   "metadata": {},
   "source": [
    "#### Creat UniqueID field"
   ]
  },
  {
   "cell_type": "code",
   "execution_count": null,
   "metadata": {},
   "outputs": [],
   "source": [
    "icms1['UniqueID'] = icms1['DataProvider'] + '//' + icms1['BaseAgreementID'].astype(str) + '//' + \\\n",
    "icms1['CommercialName'] + '//' + icms1['ProductName'] + '//' + icms1['SplitNum'].astype(str)\n",
    "\n",
    "icms2['UniqueID'] = icms2['DataProvider'] + '//' + icms2['BaseAgreementID'].astype(str) + '//' + \\\n",
    "icms2['CommercialName'] + '//' + icms2['ProductName'] + '//' + icms2['SplitNum'].astype(str)"
   ]
  },
  {
   "cell_type": "markdown",
   "metadata": {},
   "source": [
    "## Merge versions"
   ]
  },
  {
   "cell_type": "code",
   "execution_count": null,
   "metadata": {},
   "outputs": [],
   "source": [
    "# icms2 = icms2[['UniqueID','AcctAssignGL','AcctAssignCC','TermDate','Amount']]\n",
    "\n",
    "# Merge DataFrames\n",
    "icms_merged_inner = icms1.merge(icms2,how='inner',on=['UniqueID'],suffixes=('_old','_new'))\n",
    "icms_merged_outer = icms1.merge(icms2,how='outer',on=['UniqueID'],suffixes=('_old','_new'))\n",
    "# icms_merged_inner"
   ]
  },
  {
   "cell_type": "markdown",
   "metadata": {},
   "source": [
    "#### CC changes"
   ]
  },
  {
   "cell_type": "code",
   "execution_count": null,
   "metadata": {},
   "outputs": [],
   "source": [
    "icms_changed_cc = icms_merged_inner[icms_merged_inner['AcctAssignCC_old'] != icms_merged_inner['AcctAssignCC_new']]\n",
    "icms_changed_cc[['DataProvider_new','CommercialName_new','BU_new','AcctAssignCC_old','AcctAssignCC_new']]"
   ]
  },
  {
   "cell_type": "markdown",
   "metadata": {},
   "source": [
    "#### G/L changes"
   ]
  },
  {
   "cell_type": "code",
   "execution_count": null,
   "metadata": {},
   "outputs": [],
   "source": [
    "icms_changed_gl = icms_merged_inner[icms_merged_inner['AcctAssignGL_old'] != icms_merged_inner['AcctAssignGL_new']]\n",
    "icms_changed_gl[['DataProvider_new','CommercialName_new','BU_new','AcctAssignGL_old','AcctAssignGL_new']]"
   ]
  },
  {
   "cell_type": "markdown",
   "metadata": {},
   "source": [
    "#### Annual Amount changes"
   ]
  },
  {
   "cell_type": "code",
   "execution_count": null,
   "metadata": {},
   "outputs": [],
   "source": [
    "icms_changed_amt = icms_merged_inner[icms_merged_inner['Amount_old'] != icms_merged_inner['Amount_new']]\n",
    "icms_changed_amt = icms_changed_amt[['DataProvider_new','CommercialName_new','BU_new','Amount_old','Amount_new']]\n",
    "\n",
    "icms_changed_amt['Change'] = icms_changed_amt['Amount_new'] - icms_changed_amt['Amount_old']\n",
    "icms_changed_amt"
   ]
  },
  {
   "cell_type": "markdown",
   "metadata": {},
   "source": [
    "#### New Contracts"
   ]
  },
  {
   "cell_type": "code",
   "execution_count": null,
   "metadata": {},
   "outputs": [],
   "source": [
    "new_icms = icms_merged_outer[icms_merged_outer['BaseAgreementID_old'].isnull()]\n",
    "new_icms = new_icms.rename(columns={'DataProvider_new':'DataProvider',\n",
    "                                    'BaseAgreementID_new':'BaseAgreementID'\n",
    "                                   })\n",
    "new_icms[['DataProvider','BaseAgreementID','BU_new','AcctAssignGL_new','AcctAssignCC_new']]"
   ]
  },
  {
   "cell_type": "markdown",
   "metadata": {},
   "source": [
    "#### Removed Contracts"
   ]
  },
  {
   "cell_type": "code",
   "execution_count": null,
   "metadata": {
    "scrolled": true
   },
   "outputs": [],
   "source": [
    "rem_icms = icms_merged_outer[icms_merged_outer['BaseAgreementID_new'].isnull()]\n",
    "rem_icms = rem_icms.rename(columns={'DataProvider_old':'DataProvider',\n",
    "                                    'BaseAgreementID_old':'BaseAgreementID'\n",
    "                                   })\n",
    "rem_icms[['DataProvider','BaseAgreementID','BU_old','AcctAssignGL_old','AcctAssignCC_old','Amount_old']]"
   ]
  },
  {
   "cell_type": "code",
   "execution_count": null,
   "metadata": {},
   "outputs": [],
   "source": []
  },
  {
   "cell_type": "code",
   "execution_count": null,
   "metadata": {},
   "outputs": [],
   "source": []
  },
  {
   "cell_type": "code",
   "execution_count": null,
   "metadata": {},
   "outputs": [],
   "source": []
  },
  {
   "cell_type": "markdown",
   "metadata": {},
   "source": [
    "## Examples"
   ]
  },
  {
   "cell_type": "markdown",
   "metadata": {},
   "source": [
    "### Indexing"
   ]
  },
  {
   "cell_type": "markdown",
   "metadata": {},
   "source": [
    "#### Index DataFrame by column name"
   ]
  },
  {
   "cell_type": "code",
   "execution_count": null,
   "metadata": {},
   "outputs": [],
   "source": [
    "# icms1[['DataProvider','BaseAgreementID','CommercialName']].head(3)"
   ]
  },
  {
   "cell_type": "markdown",
   "metadata": {},
   "source": [
    "#### .loc/.iloc --> Access a group of rows and columns by label(s) or a boolean array: [ r , c ]"
   ]
  },
  {
   "cell_type": "code",
   "execution_count": null,
   "metadata": {},
   "outputs": [],
   "source": [
    "# icms1.loc[:,'DataProvider'].head(3)\n",
    "# icms1.iloc[:,0:5].head(5)"
   ]
  },
  {
   "cell_type": "markdown",
   "metadata": {},
   "source": [
    "#### value_counts --> counts distinct # of values in a given series"
   ]
  },
  {
   "cell_type": "code",
   "execution_count": null,
   "metadata": {},
   "outputs": [],
   "source": [
    "# icms2['DataProvider'].value_counts()\n",
    "# pd.value_counts(icms1['DataProvider'])"
   ]
  },
  {
   "cell_type": "markdown",
   "metadata": {},
   "source": [
    "#### sort_values --> sort by column(s) in a given data frame"
   ]
  },
  {
   "cell_type": "code",
   "execution_count": null,
   "metadata": {
    "scrolled": true
   },
   "outputs": [],
   "source": [
    "# icms1_sorted = icms1.sort_values(by=['DataProvider','TermDate'],ascending=False)\n",
    "# icms1_sorted.head()\n",
    "\n",
    "# icms2_sorted = icms2.sort_values(by=['Amount'], ascending=False)\n",
    "# icms2_sorted.head(3)"
   ]
  },
  {
   "cell_type": "markdown",
   "metadata": {},
   "source": [
    "#### Group By (Data Provider) and Aggregate (Amount)"
   ]
  },
  {
   "cell_type": "code",
   "execution_count": null,
   "metadata": {},
   "outputs": [],
   "source": [
    "# icms1.groupby(['DataProvider']).agg({'Amount':'count'})\n",
    "# icms1.groupby(['DataProvider']).agg({'Amount':'mean'})\n",
    "# icms1.groupby(['DataProvider']).agg({'Amount':['min','max','mean']})\n",
    "# icms1.groupby(['DataProvider','CommercialName']).agg({'Amount':['min','max','mean']})"
   ]
  },
  {
   "cell_type": "markdown",
   "metadata": {},
   "source": [
    "Filter dataframe on certain value(s) within certain column(s)"
   ]
  },
  {
   "cell_type": "code",
   "execution_count": null,
   "metadata": {},
   "outputs": [],
   "source": [
    "# icms1[icms1['DataProvider']=='AAA']\n",
    "# icms1[(icms1['BaseAgreementID']==111) | (icms1['TermDate']<='12/10/2019')].head(3)"
   ]
  },
  {
   "cell_type": "markdown",
   "metadata": {},
   "source": [
    "Count the number of base agreements for Data Providers names containing 'AAA'"
   ]
  },
  {
   "cell_type": "code",
   "execution_count": null,
   "metadata": {},
   "outputs": [],
   "source": [
    "# icms1_AAA = icms1[icms1['DataProvider'].str.contains('AAA')]\n",
    "# icms1_AAA['BaseAgreementID'].value_counts()"
   ]
  },
  {
   "cell_type": "markdown",
   "metadata": {},
   "source": [
    "## Groupby"
   ]
  },
  {
   "cell_type": "code",
   "execution_count": null,
   "metadata": {},
   "outputs": [],
   "source": [
    "# list(oo.groupby('Edition'))\n",
    "# group_by = 'Edition'\n",
    "# oo_ath = oo.groupby(group_by)"
   ]
  },
  {
   "cell_type": "code",
   "execution_count": null,
   "metadata": {},
   "outputs": [],
   "source": [
    "# for group_key, group_value in oo_ath:\n",
    "#     print(group_key)\n",
    "#     print(group_value)"
   ]
  },
  {
   "cell_type": "markdown",
   "metadata": {},
   "source": [
    "#### Groupby Computations"
   ]
  },
  {
   "cell_type": "code",
   "execution_count": null,
   "metadata": {
    "scrolled": true
   },
   "outputs": [],
   "source": [
    "# oo_ath.size().head()"
   ]
  },
  {
   "cell_type": "code",
   "execution_count": null,
   "metadata": {},
   "outputs": [],
   "source": [
    "# oo[oo['Athlete'] == 'LEWIS, Carl'].groupby(['Athlete','Medal','Event']).agg({'Edition' :['min','max','count']})"
   ]
  },
  {
   "cell_type": "markdown",
   "metadata": {},
   "source": [
    "#### Create a list showing the total number of medals won for each country over the history of the Olympics. For each country, include the year of the first and the most recent Olympic medal wins."
   ]
  },
  {
   "cell_type": "code",
   "execution_count": null,
   "metadata": {},
   "outputs": [],
   "source": [
    "# oo.groupby('NOC').agg({'Edition' :['min','max','count']}).head()"
   ]
  },
  {
   "cell_type": "markdown",
   "metadata": {},
   "source": [
    "### Reshaping"
   ]
  },
  {
   "cell_type": "code",
   "execution_count": null,
   "metadata": {},
   "outputs": [],
   "source": [
    "# mw = oo[(oo['Edition'] == 2008) & ((oo['Event'] == '100m') | (oo['Event'] == '200m'))]\n",
    "# mw.head()"
   ]
  },
  {
   "cell_type": "code",
   "execution_count": null,
   "metadata": {},
   "outputs": [],
   "source": [
    "# g = mw.groupby(['NOC','Gender','Discipline','Event']).size()\n",
    "# g"
   ]
  },
  {
   "cell_type": "markdown",
   "metadata": {},
   "source": [
    "##### Unstack --> move series' (Discipline & Event) to columns"
   ]
  },
  {
   "cell_type": "code",
   "execution_count": null,
   "metadata": {},
   "outputs": [],
   "source": [
    "# g.unstack(['Discipline','Event'], fill_value=0)"
   ]
  },
  {
   "cell_type": "markdown",
   "metadata": {},
   "source": [
    "## Basic Plotting"
   ]
  },
  {
   "cell_type": "code",
   "execution_count": null,
   "metadata": {},
   "outputs": [],
   "source": [
    "import matplotlib.pyplot as plt\n",
    "%matplotlib inline"
   ]
  },
  {
   "cell_type": "code",
   "execution_count": null,
   "metadata": {},
   "outputs": [],
   "source": [
    "# icms2['BU'].value_counts().plot(kind='hist',title='# of Contracts by Business');\n",
    "# icms2['BU'].value_counts().plot(kind='bar',color='b',title='# of Contracts by Business');\n",
    "# icms2['BU'].value_counts().plot(kind='barh',color='b',title='# of Contracts by Business');\n",
    "# icms2['BU'].value_counts().plot(kind='pie',colors='grb',legend=True,title='# of Contracts by Business');"
   ]
  },
  {
   "cell_type": "markdown",
   "metadata": {},
   "source": [
    "## Seaborn"
   ]
  },
  {
   "cell_type": "code",
   "execution_count": null,
   "metadata": {},
   "outputs": [],
   "source": [
    "import seaborn as sns\n",
    "# flatui = [\"#9b59b6\", \"#3498db\", \"#95a5a6\", \"#e74c3c\", \"#34495e\", \"#2ecc71\"]\n",
    "# palplot_fui = sns.palplot(sns.color_palette(flatui))"
   ]
  },
  {
   "cell_type": "markdown",
   "metadata": {},
   "source": [
    "#### Product Counts by Business"
   ]
  },
  {
   "cell_type": "code",
   "execution_count": null,
   "metadata": {
    "scrolled": true
   },
   "outputs": [],
   "source": [
    "# sns.countplot(x='ProductName',data=icms2,hue='BU',palette=palplot_fui);"
   ]
  },
  {
   "cell_type": "markdown",
   "metadata": {},
   "source": [
    "#### # of Contracts by Business"
   ]
  },
  {
   "cell_type": "code",
   "execution_count": null,
   "metadata": {},
   "outputs": [],
   "source": [
    "# china2008 = oo[(oo['Edition'] == 2008) & (oo['NOC'] == 'CHN')]\n",
    "# sns.countplot(x='BU', data=icms2, palette=palplot_fui);"
   ]
  },
  {
   "cell_type": "markdown",
   "metadata": {},
   "source": [
    "###### Plot the number Gold, Silver, and Bronze medals for each gender (China/2008 dataset)"
   ]
  },
  {
   "cell_type": "code",
   "execution_count": null,
   "metadata": {},
   "outputs": [],
   "source": [
    "# sns.countplot(x='Medal', data=china2008, palette='bwr', hue='Gender', order=['Gold', 'Silver', 'Bronze']);"
   ]
  },
  {
   "cell_type": "markdown",
   "metadata": {},
   "source": [
    "#### Using groupby, plot the total number of medals awarded at each of the Olympic games throughout history "
   ]
  },
  {
   "cell_type": "code",
   "execution_count": null,
   "metadata": {},
   "outputs": [],
   "source": [
    "# oo_grouped = oo.groupby('Edition').size()\n",
    "# oo_grouped = oo.groupby('Edition').agg({'Medal':'count'})\n",
    "# oo_grouped.plot();"
   ]
  },
  {
   "cell_type": "markdown",
   "metadata": {},
   "source": [
    "#### Plot the number of gold medals won by the USA male and female athletes throughout the history of the Olympics."
   ]
  },
  {
   "cell_type": "code",
   "execution_count": null,
   "metadata": {},
   "outputs": [],
   "source": [
    "# usa_gold = oo[(oo['NOC'] == 'USA') & (oo['Medal'] == 'Gold')]\n",
    "# usa_gold_mw = usa_gold.groupby(['Edition', 'Gender']).size()\n",
    "# usa_gold_mw.unstack('Gender', fill_value=0).plot();\n",
    "# type(usa_gold)"
   ]
  },
  {
   "cell_type": "markdown",
   "metadata": {},
   "source": [
    "#### Plot the five athletes who have won the most gold medals over the history of the Olympics. When there is a tie, consider the number of silver medals and then bronze medals."
   ]
  },
  {
   "cell_type": "code",
   "execution_count": null,
   "metadata": {},
   "outputs": [],
   "source": [
    "# all_medals = oo.groupby(['Athlete','Medal']).size().unstack('Medal', fill_value=0)\n",
    "# all_medals.sort_values(['Gold','Silver','Bronze'], ascending=False)[['Gold','Silver','Bronze']].head().plot(kind='bar')"
   ]
  },
  {
   "cell_type": "markdown",
   "metadata": {},
   "source": [
    "### Data Visualizations"
   ]
  },
  {
   "cell_type": "markdown",
   "metadata": {},
   "source": [
    "#### Heatmaps"
   ]
  },
  {
   "cell_type": "code",
   "execution_count": null,
   "metadata": {},
   "outputs": [],
   "source": [
    "# all_medals = oo.groupby(['NOC','Medal']).size().unstack('Medal', fill_value=0)\n",
    "# all_medals_sorted = all_medals.sort_values(['Gold','Silver','Bronze'], ascending=False)[['Gold','Silver','Bronze']].head(25);"
   ]
  },
  {
   "cell_type": "code",
   "execution_count": null,
   "metadata": {},
   "outputs": [],
   "source": [
    "# t = all_medals_sorted.transpose()\n",
    "# sns.heatmap(t);"
   ]
  },
  {
   "cell_type": "markdown",
   "metadata": {},
   "source": [
    "#### Colormaps"
   ]
  },
  {
   "cell_type": "code",
   "execution_count": null,
   "metadata": {},
   "outputs": [],
   "source": [
    "# all_medals = oo.groupby(['Athlete','Medal']).size().unstack('Medal', fill_value=0)\n",
    "# sorted = all_medals.sort_values(['Gold','Silver','Bronze'], ascending=False)[['Gold','Silver','Bronze']].head().plot(kind='bar')"
   ]
  },
  {
   "cell_type": "code",
   "execution_count": null,
   "metadata": {},
   "outputs": [],
   "source": [
    "# gsb = ['#dbb40c','#c5c9c7','#a87900']\n",
    "# my_pal = sns.palplot(sns.color_palette(gsb))"
   ]
  },
  {
   "cell_type": "code",
   "execution_count": null,
   "metadata": {},
   "outputs": [],
   "source": [
    "# all_medals = oo.groupby(['Athlete','Medal']).size().unstack('Medal', fill_value=0)\n",
    "# all_medals = all_medals.sort_values(['Gold','Silver','Bronze'], ascending=False)[['Gold','Silver','Bronze']].head()\n",
    "# all_medals.plot(kind='bar', colormap=my_pal);"
   ]
  },
  {
   "cell_type": "markdown",
   "metadata": {},
   "source": [
    "## Final Challenge"
   ]
  },
  {
   "cell_type": "markdown",
   "metadata": {},
   "source": [
    "#### Problem"
   ]
  },
  {
   "cell_type": "markdown",
   "metadata": {},
   "source": [
    "#### in every Olympics, which US athlete has won the most total number of medals? Include athlete's discipline."
   ]
  },
  {
   "cell_type": "code",
   "execution_count": null,
   "metadata": {},
   "outputs": [],
   "source": [
    "# usam = oo[oo['NOC'] == 'USA']\n",
    "# usam = usam.groupby(['Edition','Athlete','Medal']).size().unstack('Medal',fill_value=0)\n",
    "# usam['Total'] = usam['Gold'] + usam['Silver'] + usam['Bronze']\n",
    "# # usam.reset_index(inplace=True)\n",
    "# tu = [group.sort_values('Total',ascending=False)[:1] for year,group in usam.groupby('Edition')]\n",
    "# med = pd.DataFrame()\n",
    "# for i in tu:\n",
    "#     med = med.append(i)\n",
    "# med     "
   ]
  },
  {
   "cell_type": "code",
   "execution_count": null,
   "metadata": {},
   "outputs": [],
   "source": []
  }
 ],
 "metadata": {
  "kernelspec": {
   "display_name": "Python 3",
   "language": "python",
   "name": "python3"
  },
  "language_info": {
   "codemirror_mode": {
    "name": "ipython",
    "version": 3
   },
   "file_extension": ".py",
   "mimetype": "text/x-python",
   "name": "python",
   "nbconvert_exporter": "python",
   "pygments_lexer": "ipython3",
   "version": "3.6.4"
  }
 },
 "nbformat": 4,
 "nbformat_minor": 2
}
