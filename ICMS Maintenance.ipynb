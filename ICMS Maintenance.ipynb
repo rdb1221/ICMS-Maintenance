{
 "cells": [
  {
   "cell_type": "markdown",
   "metadata": {},
   "source": [
    "# ICMS Maintenance"
   ]
  },
  {
   "cell_type": "code",
   "execution_count": 1,
   "metadata": {},
   "outputs": [],
   "source": [
    "import numpy as np\n",
    "import pandas as pd\n",
    "from matplotlib import pyplot as plt"
   ]
  },
  {
   "cell_type": "code",
   "execution_count": 2,
   "metadata": {},
   "outputs": [],
   "source": [
    "# oo = pd.read_csv('/Users/ryanbreier/RB.Data & Programming/Data Science/inLearning/Pandas Essential Training/Ex_Files_Pandas_EssT/ExerciseFiles/data/olympics.csv', skiprows=4)\n",
    "icms1 = pd.read_csv('/Users/ryanbreier/RB.Data & Programming/Data Science/Testing/icms_maintenance/icms_export_1.csv')\n",
    "icms2 = pd.read_csv('/Users/ryanbreier/RB.Data & Programming/Data Science/Testing/icms_maintenance/icms_export_2.csv')"
   ]
  },
  {
   "cell_type": "markdown",
   "metadata": {},
   "source": [
    "#### Inspect dataframe"
   ]
  },
  {
   "cell_type": "code",
   "execution_count": 3,
   "metadata": {
    "scrolled": false
   },
   "outputs": [
    {
     "data": {
      "text/plain": [
       "['DataProvider',\n",
       " 'BaseAgreementID',\n",
       " 'CommercialName',\n",
       " 'ProductName',\n",
       " 'SplitNum',\n",
       " 'AcctAssignGL',\n",
       " 'AcctAssignCC',\n",
       " 'TermDate',\n",
       " 'Amount']"
      ]
     },
     "execution_count": 3,
     "metadata": {},
     "output_type": "execute_result"
    }
   ],
   "source": [
    "icms1.head()\n",
    "# icms2.head()\n",
    "col_list = icms1.columns.tolist()\n",
    "col_list\n",
    "\n",
    "# icms1.dtypes\n",
    "# icms1.describe()\n",
    "# icms1.shape\n",
    "# icms2.shape\n",
    "# [rows_count, columns_count]\n",
    "\n",
    "# icms1.shape[0] ## call rows_count\n",
    "# icms1.shape[1] ## call columns_count"
   ]
  },
  {
   "cell_type": "markdown",
   "metadata": {},
   "source": [
    "#### Creat UniqueID field"
   ]
  },
  {
   "cell_type": "code",
   "execution_count": 4,
   "metadata": {},
   "outputs": [],
   "source": [
    "# unique_cols = [icms1.columns.get_loc('DataProvider'),\n",
    "#                icms1.columns.get_loc('SplitNum'),\n",
    "#               ]\n",
    "# unique_cols\n",
    "# icms1['UniqueID'] = icms1.iloc[unique_cols[0]:unique_cols[1]]\n",
    "\n",
    "icms1['UniqueID'] = icms1['DataProvider'] + '//' + icms1['BaseAgreementID'].astype(str) + '//' + \\\n",
    "icms1['CommercialName'] + '//' + icms1['ProductName'] + '//' + icms1['SplitNum'].astype(str)\n",
    "# icms1\n",
    "icms2['UniqueID'] = icms2['DataProvider'] + '//' + icms2['BaseAgreementID'].astype(str) + '//' + \\\n",
    "icms2['CommercialName'] + '//' + icms2['ProductName'] + '//' + icms2['SplitNum'].astype(str)"
   ]
  },
  {
   "cell_type": "markdown",
   "metadata": {},
   "source": [
    "#### Index DataFrame by column name"
   ]
  },
  {
   "cell_type": "code",
   "execution_count": 5,
   "metadata": {},
   "outputs": [
    {
     "data": {
      "text/html": [
       "<div>\n",
       "<style scoped>\n",
       "    .dataframe tbody tr th:only-of-type {\n",
       "        vertical-align: middle;\n",
       "    }\n",
       "\n",
       "    .dataframe tbody tr th {\n",
       "        vertical-align: top;\n",
       "    }\n",
       "\n",
       "    .dataframe thead th {\n",
       "        text-align: right;\n",
       "    }\n",
       "</style>\n",
       "<table border=\"1\" class=\"dataframe\">\n",
       "  <thead>\n",
       "    <tr style=\"text-align: right;\">\n",
       "      <th></th>\n",
       "      <th>DataProvider</th>\n",
       "      <th>BaseAgreementID</th>\n",
       "      <th>CommercialName</th>\n",
       "    </tr>\n",
       "  </thead>\n",
       "  <tbody>\n",
       "    <tr>\n",
       "      <th>0</th>\n",
       "      <td>AAA</td>\n",
       "      <td>111</td>\n",
       "      <td>commexample1</td>\n",
       "    </tr>\n",
       "    <tr>\n",
       "      <th>1</th>\n",
       "      <td>AAA</td>\n",
       "      <td>222</td>\n",
       "      <td>commexample1</td>\n",
       "    </tr>\n",
       "    <tr>\n",
       "      <th>2</th>\n",
       "      <td>AAA</td>\n",
       "      <td>333</td>\n",
       "      <td>commexample1</td>\n",
       "    </tr>\n",
       "  </tbody>\n",
       "</table>\n",
       "</div>"
      ],
      "text/plain": [
       "  DataProvider  BaseAgreementID CommercialName\n",
       "0          AAA              111   commexample1\n",
       "1          AAA              222   commexample1\n",
       "2          AAA              333   commexample1"
      ]
     },
     "execution_count": 5,
     "metadata": {},
     "output_type": "execute_result"
    }
   ],
   "source": [
    "icms1[['DataProvider','BaseAgreementID','CommercialName']].head(3)\n",
    "# icms1.iloc[:,0:5].head(5)"
   ]
  },
  {
   "cell_type": "markdown",
   "metadata": {},
   "source": [
    "#### value_counts --> counts distinct # of values in a given series"
   ]
  },
  {
   "cell_type": "code",
   "execution_count": 6,
   "metadata": {},
   "outputs": [
    {
     "data": {
      "text/plain": [
       "AAA    3\n",
       "BBB    3\n",
       "DDD    3\n",
       "EEE    3\n",
       "CCC    3\n",
       "Name: DataProvider, dtype: int64"
      ]
     },
     "execution_count": 6,
     "metadata": {},
     "output_type": "execute_result"
    }
   ],
   "source": [
    "icms1['DataProvider'].value_counts()\n",
    "# pd.value_counts(icms1['DataProvider'])"
   ]
  },
  {
   "cell_type": "markdown",
   "metadata": {},
   "source": [
    "#### sort_values --> sort by column(s) in a given data frame"
   ]
  },
  {
   "cell_type": "code",
   "execution_count": 7,
   "metadata": {
    "scrolled": true
   },
   "outputs": [
    {
     "data": {
      "text/html": [
       "<div>\n",
       "<style scoped>\n",
       "    .dataframe tbody tr th:only-of-type {\n",
       "        vertical-align: middle;\n",
       "    }\n",
       "\n",
       "    .dataframe tbody tr th {\n",
       "        vertical-align: top;\n",
       "    }\n",
       "\n",
       "    .dataframe thead th {\n",
       "        text-align: right;\n",
       "    }\n",
       "</style>\n",
       "<table border=\"1\" class=\"dataframe\">\n",
       "  <thead>\n",
       "    <tr style=\"text-align: right;\">\n",
       "      <th></th>\n",
       "      <th>DataProvider</th>\n",
       "      <th>BaseAgreementID</th>\n",
       "      <th>CommercialName</th>\n",
       "      <th>ProductName</th>\n",
       "      <th>SplitNum</th>\n",
       "      <th>AcctAssignGL</th>\n",
       "      <th>AcctAssignCC</th>\n",
       "      <th>TermDate</th>\n",
       "      <th>Amount</th>\n",
       "      <th>UniqueID</th>\n",
       "    </tr>\n",
       "  </thead>\n",
       "  <tbody>\n",
       "    <tr>\n",
       "      <th>0</th>\n",
       "      <td>AAA</td>\n",
       "      <td>111</td>\n",
       "      <td>commexample1</td>\n",
       "      <td>prodexample1</td>\n",
       "      <td>1</td>\n",
       "      <td>745150</td>\n",
       "      <td>10008542</td>\n",
       "      <td>12/31/19</td>\n",
       "      <td>150000</td>\n",
       "      <td>AAA//111//commexample1//prodexample1//1</td>\n",
       "    </tr>\n",
       "    <tr>\n",
       "      <th>1</th>\n",
       "      <td>AAA</td>\n",
       "      <td>222</td>\n",
       "      <td>commexample1</td>\n",
       "      <td>prodexample1</td>\n",
       "      <td>1</td>\n",
       "      <td>745150</td>\n",
       "      <td>10008542</td>\n",
       "      <td>12/31/19</td>\n",
       "      <td>200000</td>\n",
       "      <td>AAA//222//commexample1//prodexample1//1</td>\n",
       "    </tr>\n",
       "    <tr>\n",
       "      <th>2</th>\n",
       "      <td>AAA</td>\n",
       "      <td>333</td>\n",
       "      <td>commexample1</td>\n",
       "      <td>prodexample1</td>\n",
       "      <td>1</td>\n",
       "      <td>745150</td>\n",
       "      <td>10008542</td>\n",
       "      <td>12/31/19</td>\n",
       "      <td>50000</td>\n",
       "      <td>AAA//333//commexample1//prodexample1//1</td>\n",
       "    </tr>\n",
       "    <tr>\n",
       "      <th>3</th>\n",
       "      <td>BBB</td>\n",
       "      <td>111</td>\n",
       "      <td>commexample1</td>\n",
       "      <td>prodexample1</td>\n",
       "      <td>1</td>\n",
       "      <td>745150</td>\n",
       "      <td>10008542</td>\n",
       "      <td>4/30/20</td>\n",
       "      <td>200000</td>\n",
       "      <td>BBB//111//commexample1//prodexample1//1</td>\n",
       "    </tr>\n",
       "    <tr>\n",
       "      <th>4</th>\n",
       "      <td>BBB</td>\n",
       "      <td>222</td>\n",
       "      <td>commexample2</td>\n",
       "      <td>prodexample2</td>\n",
       "      <td>1</td>\n",
       "      <td>745150</td>\n",
       "      <td>10008542</td>\n",
       "      <td>4/30/20</td>\n",
       "      <td>15000</td>\n",
       "      <td>BBB//222//commexample2//prodexample2//1</td>\n",
       "    </tr>\n",
       "  </tbody>\n",
       "</table>\n",
       "</div>"
      ],
      "text/plain": [
       "  DataProvider  BaseAgreementID CommercialName   ProductName  SplitNum  \\\n",
       "0          AAA              111   commexample1  prodexample1         1   \n",
       "1          AAA              222   commexample1  prodexample1         1   \n",
       "2          AAA              333   commexample1  prodexample1         1   \n",
       "3          BBB              111   commexample1  prodexample1         1   \n",
       "4          BBB              222   commexample2  prodexample2         1   \n",
       "\n",
       "   AcctAssignGL  AcctAssignCC  TermDate  Amount  \\\n",
       "0        745150      10008542  12/31/19  150000   \n",
       "1        745150      10008542  12/31/19  200000   \n",
       "2        745150      10008542  12/31/19   50000   \n",
       "3        745150      10008542   4/30/20  200000   \n",
       "4        745150      10008542   4/30/20   15000   \n",
       "\n",
       "                                  UniqueID  \n",
       "0  AAA//111//commexample1//prodexample1//1  \n",
       "1  AAA//222//commexample1//prodexample1//1  \n",
       "2  AAA//333//commexample1//prodexample1//1  \n",
       "3  BBB//111//commexample1//prodexample1//1  \n",
       "4  BBB//222//commexample2//prodexample2//1  "
      ]
     },
     "execution_count": 7,
     "metadata": {},
     "output_type": "execute_result"
    }
   ],
   "source": [
    "icms1_sorted = icms1.sort_values(by=['DataProvider','TermDate'])\n",
    "icms1_sorted.head()\n",
    "\n",
    "# icms2_sorted = icms2.sort_values(by=['Amount'], ascending=False)\n",
    "# icms2_sorted.head(3)"
   ]
  },
  {
   "cell_type": "markdown",
   "metadata": {},
   "source": [
    "#### Group By (Data Provider) and Aggregate (Amount)"
   ]
  },
  {
   "cell_type": "code",
   "execution_count": 8,
   "metadata": {},
   "outputs": [
    {
     "data": {
      "text/html": [
       "<div>\n",
       "<style scoped>\n",
       "    .dataframe tbody tr th:only-of-type {\n",
       "        vertical-align: middle;\n",
       "    }\n",
       "\n",
       "    .dataframe tbody tr th {\n",
       "        vertical-align: top;\n",
       "    }\n",
       "\n",
       "    .dataframe thead tr th {\n",
       "        text-align: left;\n",
       "    }\n",
       "\n",
       "    .dataframe thead tr:last-of-type th {\n",
       "        text-align: right;\n",
       "    }\n",
       "</style>\n",
       "<table border=\"1\" class=\"dataframe\">\n",
       "  <thead>\n",
       "    <tr>\n",
       "      <th></th>\n",
       "      <th></th>\n",
       "      <th colspan=\"3\" halign=\"left\">Amount</th>\n",
       "    </tr>\n",
       "    <tr>\n",
       "      <th></th>\n",
       "      <th></th>\n",
       "      <th>min</th>\n",
       "      <th>max</th>\n",
       "      <th>mean</th>\n",
       "    </tr>\n",
       "    <tr>\n",
       "      <th>DataProvider</th>\n",
       "      <th>CommercialName</th>\n",
       "      <th></th>\n",
       "      <th></th>\n",
       "      <th></th>\n",
       "    </tr>\n",
       "  </thead>\n",
       "  <tbody>\n",
       "    <tr>\n",
       "      <th>AAA</th>\n",
       "      <th>commexample1</th>\n",
       "      <td>50000</td>\n",
       "      <td>200000</td>\n",
       "      <td>133333.333333</td>\n",
       "    </tr>\n",
       "    <tr>\n",
       "      <th rowspan=\"2\" valign=\"top\">BBB</th>\n",
       "      <th>commexample1</th>\n",
       "      <td>200000</td>\n",
       "      <td>200000</td>\n",
       "      <td>200000.000000</td>\n",
       "    </tr>\n",
       "    <tr>\n",
       "      <th>commexample2</th>\n",
       "      <td>15000</td>\n",
       "      <td>15000</td>\n",
       "      <td>15000.000000</td>\n",
       "    </tr>\n",
       "    <tr>\n",
       "      <th rowspan=\"3\" valign=\"top\">CCC</th>\n",
       "      <th>commexample1</th>\n",
       "      <td>75000</td>\n",
       "      <td>75000</td>\n",
       "      <td>75000.000000</td>\n",
       "    </tr>\n",
       "    <tr>\n",
       "      <th>commexample2</th>\n",
       "      <td>95000</td>\n",
       "      <td>95000</td>\n",
       "      <td>95000.000000</td>\n",
       "    </tr>\n",
       "    <tr>\n",
       "      <th>commexample3</th>\n",
       "      <td>105000</td>\n",
       "      <td>105000</td>\n",
       "      <td>105000.000000</td>\n",
       "    </tr>\n",
       "    <tr>\n",
       "      <th>DDD</th>\n",
       "      <th>commexample1</th>\n",
       "      <td>300000</td>\n",
       "      <td>300000</td>\n",
       "      <td>300000.000000</td>\n",
       "    </tr>\n",
       "    <tr>\n",
       "      <th rowspan=\"2\" valign=\"top\">EEE</th>\n",
       "      <th>commexample1</th>\n",
       "      <td>350000</td>\n",
       "      <td>350000</td>\n",
       "      <td>350000.000000</td>\n",
       "    </tr>\n",
       "    <tr>\n",
       "      <th>commexample2</th>\n",
       "      <td>350000</td>\n",
       "      <td>350000</td>\n",
       "      <td>350000.000000</td>\n",
       "    </tr>\n",
       "  </tbody>\n",
       "</table>\n",
       "</div>"
      ],
      "text/plain": [
       "                             Amount                       \n",
       "                                min     max           mean\n",
       "DataProvider CommercialName                               \n",
       "AAA          commexample1     50000  200000  133333.333333\n",
       "BBB          commexample1    200000  200000  200000.000000\n",
       "             commexample2     15000   15000   15000.000000\n",
       "CCC          commexample1     75000   75000   75000.000000\n",
       "             commexample2     95000   95000   95000.000000\n",
       "             commexample3    105000  105000  105000.000000\n",
       "DDD          commexample1    300000  300000  300000.000000\n",
       "EEE          commexample1    350000  350000  350000.000000\n",
       "             commexample2    350000  350000  350000.000000"
      ]
     },
     "execution_count": 8,
     "metadata": {},
     "output_type": "execute_result"
    }
   ],
   "source": [
    "# icms1.groupby(['DataProvider']).agg({'Amount':'max'})\n",
    "# icms1.groupby(['DataProvider']).agg({'Amount':'min'})\n",
    "# icms1.groupby(['DataProvider']).agg({'Amount':'count'})\n",
    "# icms1.groupby(['DataProvider']).agg({'Amount':'mean'})\n",
    "# icms1.groupby(['DataProvider']).agg({'Amount':['min','max','mean']})\n",
    "icms1.groupby(['DataProvider','CommercialName']).agg({'Amount':['min','max','mean']})"
   ]
  },
  {
   "cell_type": "markdown",
   "metadata": {},
   "source": [
    "#### Filter dataframe on certain value(s) within certain column(s)"
   ]
  },
  {
   "cell_type": "code",
   "execution_count": 9,
   "metadata": {},
   "outputs": [
    {
     "data": {
      "text/html": [
       "<div>\n",
       "<style scoped>\n",
       "    .dataframe tbody tr th:only-of-type {\n",
       "        vertical-align: middle;\n",
       "    }\n",
       "\n",
       "    .dataframe tbody tr th {\n",
       "        vertical-align: top;\n",
       "    }\n",
       "\n",
       "    .dataframe thead th {\n",
       "        text-align: right;\n",
       "    }\n",
       "</style>\n",
       "<table border=\"1\" class=\"dataframe\">\n",
       "  <thead>\n",
       "    <tr style=\"text-align: right;\">\n",
       "      <th></th>\n",
       "      <th>DataProvider</th>\n",
       "      <th>BaseAgreementID</th>\n",
       "      <th>CommercialName</th>\n",
       "      <th>ProductName</th>\n",
       "      <th>SplitNum</th>\n",
       "      <th>AcctAssignGL</th>\n",
       "      <th>AcctAssignCC</th>\n",
       "      <th>TermDate</th>\n",
       "      <th>Amount</th>\n",
       "      <th>UniqueID</th>\n",
       "    </tr>\n",
       "  </thead>\n",
       "  <tbody>\n",
       "    <tr>\n",
       "      <th>0</th>\n",
       "      <td>AAA</td>\n",
       "      <td>111</td>\n",
       "      <td>commexample1</td>\n",
       "      <td>prodexample1</td>\n",
       "      <td>1</td>\n",
       "      <td>745150</td>\n",
       "      <td>10008542</td>\n",
       "      <td>12/31/19</td>\n",
       "      <td>150000</td>\n",
       "      <td>AAA//111//commexample1//prodexample1//1</td>\n",
       "    </tr>\n",
       "    <tr>\n",
       "      <th>3</th>\n",
       "      <td>BBB</td>\n",
       "      <td>111</td>\n",
       "      <td>commexample1</td>\n",
       "      <td>prodexample1</td>\n",
       "      <td>1</td>\n",
       "      <td>745150</td>\n",
       "      <td>10008542</td>\n",
       "      <td>4/30/20</td>\n",
       "      <td>200000</td>\n",
       "      <td>BBB//111//commexample1//prodexample1//1</td>\n",
       "    </tr>\n",
       "    <tr>\n",
       "      <th>6</th>\n",
       "      <td>CCC</td>\n",
       "      <td>111</td>\n",
       "      <td>commexample1</td>\n",
       "      <td>prodexample1</td>\n",
       "      <td>1</td>\n",
       "      <td>745150</td>\n",
       "      <td>10008542</td>\n",
       "      <td>5/31/20</td>\n",
       "      <td>75000</td>\n",
       "      <td>CCC//111//commexample1//prodexample1//1</td>\n",
       "    </tr>\n",
       "  </tbody>\n",
       "</table>\n",
       "</div>"
      ],
      "text/plain": [
       "  DataProvider  BaseAgreementID CommercialName   ProductName  SplitNum  \\\n",
       "0          AAA              111   commexample1  prodexample1         1   \n",
       "3          BBB              111   commexample1  prodexample1         1   \n",
       "6          CCC              111   commexample1  prodexample1         1   \n",
       "\n",
       "   AcctAssignGL  AcctAssignCC  TermDate  Amount  \\\n",
       "0        745150      10008542  12/31/19  150000   \n",
       "3        745150      10008542   4/30/20  200000   \n",
       "6        745150      10008542   5/31/20   75000   \n",
       "\n",
       "                                  UniqueID  \n",
       "0  AAA//111//commexample1//prodexample1//1  \n",
       "3  BBB//111//commexample1//prodexample1//1  \n",
       "6  CCC//111//commexample1//prodexample1//1  "
      ]
     },
     "execution_count": 9,
     "metadata": {},
     "output_type": "execute_result"
    }
   ],
   "source": [
    "# icms1[icms1['DataProvider']=='AAA']\n",
    "icms1[(icms1['BaseAgreementID']==111) | (icms1['TermDate']<='12/10/2019')].head(3)"
   ]
  },
  {
   "cell_type": "markdown",
   "metadata": {},
   "source": [
    "Count the number of base agreements for Data Providers names containing 'AAA'"
   ]
  },
  {
   "cell_type": "code",
   "execution_count": 10,
   "metadata": {},
   "outputs": [
    {
     "data": {
      "text/plain": [
       "111    1\n",
       "222    1\n",
       "333    1\n",
       "Name: BaseAgreementID, dtype: int64"
      ]
     },
     "execution_count": 10,
     "metadata": {},
     "output_type": "execute_result"
    }
   ],
   "source": [
    "icms1_AAA = icms1[icms1['DataProvider'].str.contains('AAA')]\n",
    "icms1_AAA['BaseAgreementID'].value_counts()"
   ]
  },
  {
   "cell_type": "markdown",
   "metadata": {},
   "source": [
    "## Merge versions"
   ]
  },
  {
   "cell_type": "code",
   "execution_count": 11,
   "metadata": {},
   "outputs": [],
   "source": [
    "icms2 = icms2[['UniqueID','AcctAssignGL','AcctAssignCC','TermDate','Amount']]\n",
    "\n",
    "# Merge DataFrames\n",
    "icms_merged = icms1.merge(icms2,how='inner',on=['UniqueID'],suffixes=('_old','_new'))"
   ]
  },
  {
   "cell_type": "markdown",
   "metadata": {},
   "source": [
    "#### CC changes"
   ]
  },
  {
   "cell_type": "code",
   "execution_count": 12,
   "metadata": {},
   "outputs": [
    {
     "data": {
      "text/html": [
       "<div>\n",
       "<style scoped>\n",
       "    .dataframe tbody tr th:only-of-type {\n",
       "        vertical-align: middle;\n",
       "    }\n",
       "\n",
       "    .dataframe tbody tr th {\n",
       "        vertical-align: top;\n",
       "    }\n",
       "\n",
       "    .dataframe thead th {\n",
       "        text-align: right;\n",
       "    }\n",
       "</style>\n",
       "<table border=\"1\" class=\"dataframe\">\n",
       "  <thead>\n",
       "    <tr style=\"text-align: right;\">\n",
       "      <th></th>\n",
       "      <th>DataProvider</th>\n",
       "      <th>CommercialName</th>\n",
       "      <th>AcctAssignCC_old</th>\n",
       "      <th>AcctAssignCC_new</th>\n",
       "    </tr>\n",
       "  </thead>\n",
       "  <tbody>\n",
       "    <tr>\n",
       "      <th>11</th>\n",
       "      <td>DDD</td>\n",
       "      <td>commexample1</td>\n",
       "      <td>10008542</td>\n",
       "      <td>10008536</td>\n",
       "    </tr>\n",
       "  </tbody>\n",
       "</table>\n",
       "</div>"
      ],
      "text/plain": [
       "   DataProvider CommercialName  AcctAssignCC_old  AcctAssignCC_new\n",
       "11          DDD   commexample1          10008542          10008536"
      ]
     },
     "execution_count": 12,
     "metadata": {},
     "output_type": "execute_result"
    }
   ],
   "source": [
    "icms_changed_cc = icms_merged[icms_merged['AcctAssignCC_old'] != icms_merged['AcctAssignCC_new']]\n",
    "icms_changed_cc[['DataProvider','CommercialName','AcctAssignCC_old','AcctAssignCC_new']]"
   ]
  },
  {
   "cell_type": "markdown",
   "metadata": {},
   "source": [
    "#### G/L changes"
   ]
  },
  {
   "cell_type": "code",
   "execution_count": 13,
   "metadata": {},
   "outputs": [
    {
     "data": {
      "text/html": [
       "<div>\n",
       "<style scoped>\n",
       "    .dataframe tbody tr th:only-of-type {\n",
       "        vertical-align: middle;\n",
       "    }\n",
       "\n",
       "    .dataframe tbody tr th {\n",
       "        vertical-align: top;\n",
       "    }\n",
       "\n",
       "    .dataframe thead th {\n",
       "        text-align: right;\n",
       "    }\n",
       "</style>\n",
       "<table border=\"1\" class=\"dataframe\">\n",
       "  <thead>\n",
       "    <tr style=\"text-align: right;\">\n",
       "      <th></th>\n",
       "      <th>DataProvider</th>\n",
       "      <th>CommercialName</th>\n",
       "      <th>AcctAssignGL_old</th>\n",
       "      <th>AcctAssignGL_new</th>\n",
       "    </tr>\n",
       "  </thead>\n",
       "  <tbody>\n",
       "    <tr>\n",
       "      <th>5</th>\n",
       "      <td>BBB</td>\n",
       "      <td>commexample2</td>\n",
       "      <td>745150</td>\n",
       "      <td>745200</td>\n",
       "    </tr>\n",
       "  </tbody>\n",
       "</table>\n",
       "</div>"
      ],
      "text/plain": [
       "  DataProvider CommercialName  AcctAssignGL_old  AcctAssignGL_new\n",
       "5          BBB   commexample2            745150            745200"
      ]
     },
     "execution_count": 13,
     "metadata": {},
     "output_type": "execute_result"
    }
   ],
   "source": [
    "icms_changed_gl = icms_merged[icms_merged['AcctAssignGL_old'] != icms_merged['AcctAssignGL_new']]\n",
    "icms_changed_gl[['DataProvider','CommercialName','AcctAssignGL_old','AcctAssignGL_new']]"
   ]
  },
  {
   "cell_type": "markdown",
   "metadata": {},
   "source": [
    "#### Annual Amount changes"
   ]
  },
  {
   "cell_type": "code",
   "execution_count": 14,
   "metadata": {},
   "outputs": [
    {
     "data": {
      "text/html": [
       "<div>\n",
       "<style scoped>\n",
       "    .dataframe tbody tr th:only-of-type {\n",
       "        vertical-align: middle;\n",
       "    }\n",
       "\n",
       "    .dataframe tbody tr th {\n",
       "        vertical-align: top;\n",
       "    }\n",
       "\n",
       "    .dataframe thead th {\n",
       "        text-align: right;\n",
       "    }\n",
       "</style>\n",
       "<table border=\"1\" class=\"dataframe\">\n",
       "  <thead>\n",
       "    <tr style=\"text-align: right;\">\n",
       "      <th></th>\n",
       "      <th>DataProvider</th>\n",
       "      <th>CommercialName</th>\n",
       "      <th>Amount_old</th>\n",
       "      <th>Amount_new</th>\n",
       "    </tr>\n",
       "  </thead>\n",
       "  <tbody>\n",
       "    <tr>\n",
       "      <th>14</th>\n",
       "      <td>EEE</td>\n",
       "      <td>commexample1</td>\n",
       "      <td>350000</td>\n",
       "      <td>400000</td>\n",
       "    </tr>\n",
       "  </tbody>\n",
       "</table>\n",
       "</div>"
      ],
      "text/plain": [
       "   DataProvider CommercialName  Amount_old  Amount_new\n",
       "14          EEE   commexample1      350000      400000"
      ]
     },
     "execution_count": 14,
     "metadata": {},
     "output_type": "execute_result"
    }
   ],
   "source": [
    "icms_changed_gl = icms_merged[icms_merged['Amount_old'] != icms_merged['Amount_new']]\n",
    "icms_changed_gl[['DataProvider','CommercialName','Amount_old','Amount_new']]"
   ]
  },
  {
   "cell_type": "code",
   "execution_count": null,
   "metadata": {},
   "outputs": [],
   "source": []
  },
  {
   "cell_type": "code",
   "execution_count": null,
   "metadata": {},
   "outputs": [],
   "source": []
  },
  {
   "cell_type": "code",
   "execution_count": null,
   "metadata": {},
   "outputs": [],
   "source": []
  },
  {
   "cell_type": "code",
   "execution_count": null,
   "metadata": {},
   "outputs": [],
   "source": []
  },
  {
   "cell_type": "code",
   "execution_count": null,
   "metadata": {},
   "outputs": [],
   "source": []
  },
  {
   "cell_type": "code",
   "execution_count": null,
   "metadata": {},
   "outputs": [],
   "source": []
  },
  {
   "cell_type": "markdown",
   "metadata": {},
   "source": [
    "## Basic Plotting"
   ]
  },
  {
   "cell_type": "code",
   "execution_count": null,
   "metadata": {},
   "outputs": [],
   "source": [
    "import matplotlib.pyplot as plt"
   ]
  },
  {
   "cell_type": "code",
   "execution_count": null,
   "metadata": {},
   "outputs": [],
   "source": [
    "%matplotlib inline"
   ]
  },
  {
   "cell_type": "code",
   "execution_count": null,
   "metadata": {},
   "outputs": [],
   "source": [
    "fo = oo[oo['Edition'] == 1896]\n",
    "fo['Sport'].value_counts().plot(kind='line');"
   ]
  },
  {
   "cell_type": "code",
   "execution_count": null,
   "metadata": {},
   "outputs": [],
   "source": [
    "fo['Sport'].value_counts().plot(kind='bar');"
   ]
  },
  {
   "cell_type": "code",
   "execution_count": null,
   "metadata": {},
   "outputs": [],
   "source": [
    "fo['Sport'].value_counts().plot(kind='barh');"
   ]
  },
  {
   "cell_type": "code",
   "execution_count": null,
   "metadata": {},
   "outputs": [],
   "source": [
    "fo['Sport'].value_counts().plot(kind='pie');"
   ]
  },
  {
   "cell_type": "markdown",
   "metadata": {},
   "source": [
    "## Seaborn"
   ]
  },
  {
   "cell_type": "code",
   "execution_count": null,
   "metadata": {},
   "outputs": [],
   "source": [
    "import seaborn as sns"
   ]
  },
  {
   "cell_type": "code",
   "execution_count": null,
   "metadata": {},
   "outputs": [],
   "source": [
    "sns.countplot(x='Medal', data=oo, hue='Gender');"
   ]
  },
  {
   "cell_type": "markdown",
   "metadata": {},
   "source": [
    "### Medals won by China in 2008 Olympics"
   ]
  },
  {
   "cell_type": "markdown",
   "metadata": {},
   "source": [
    "#### Matplotlib"
   ]
  },
  {
   "cell_type": "code",
   "execution_count": null,
   "metadata": {},
   "outputs": [],
   "source": [
    "china2008 = oo[(oo['Edition'] == 2008) & (oo['NOC'] == 'CHN')]\n",
    "china2008['Gender'].value_counts().plot(kind='bar');"
   ]
  },
  {
   "cell_type": "markdown",
   "metadata": {},
   "source": [
    "#### Seaborn"
   ]
  },
  {
   "cell_type": "code",
   "execution_count": null,
   "metadata": {},
   "outputs": [],
   "source": [
    "china2008 = oo[(oo['Edition'] == 2008) & (oo['NOC'] == 'CHN')]\n",
    "sns.countplot(x='Gender', data=china2008, order=['Women', 'Men']);"
   ]
  },
  {
   "cell_type": "markdown",
   "metadata": {},
   "source": [
    "#### Seaborn (with Colormap)"
   ]
  },
  {
   "cell_type": "code",
   "execution_count": null,
   "metadata": {},
   "outputs": [],
   "source": [
    "sns.countplot(x='Gender', data=china2008, palette='bwr');"
   ]
  },
  {
   "cell_type": "markdown",
   "metadata": {},
   "source": [
    "#### Plot the number Gold, Silver, and Bronze medals for each gender (China/2008 dataset)"
   ]
  },
  {
   "cell_type": "code",
   "execution_count": null,
   "metadata": {},
   "outputs": [],
   "source": [
    "sns.countplot(x='Medal', data=china2008, palette='bwr', hue='Gender', order=['Gold', 'Silver', 'Bronze']);"
   ]
  },
  {
   "cell_type": "markdown",
   "metadata": {},
   "source": [
    "## Indexing"
   ]
  },
  {
   "cell_type": "markdown",
   "metadata": {},
   "source": [
    "#### Plot the total number of medals awarded at each of the Olympic games throughout history"
   ]
  },
  {
   "cell_type": "code",
   "execution_count": null,
   "metadata": {},
   "outputs": [],
   "source": [
    "sns.countplot(x='Edition', data=oo);"
   ]
  },
  {
   "cell_type": "markdown",
   "metadata": {},
   "source": [
    "#### Which countries did not win a medal in the 2008 Olympics? How many countries were there?"
   ]
  },
  {
   "cell_type": "code",
   "execution_count": null,
   "metadata": {},
   "outputs": [],
   "source": []
  },
  {
   "cell_type": "markdown",
   "metadata": {},
   "source": [
    "## Groupby"
   ]
  },
  {
   "cell_type": "code",
   "execution_count": null,
   "metadata": {},
   "outputs": [],
   "source": [
    "# list(oo.groupby('Edition'))\n",
    "group_by = 'Edition'\n",
    "oo_ath = oo.groupby(group_by)"
   ]
  },
  {
   "cell_type": "code",
   "execution_count": null,
   "metadata": {},
   "outputs": [],
   "source": [
    "for group_key, group_value in oo_ath:\n",
    "    print(group_key)\n",
    "    print(group_value)"
   ]
  },
  {
   "cell_type": "markdown",
   "metadata": {},
   "source": [
    "#### Groupby Computations"
   ]
  },
  {
   "cell_type": "code",
   "execution_count": null,
   "metadata": {
    "scrolled": true
   },
   "outputs": [],
   "source": [
    "oo_ath.size().head()"
   ]
  },
  {
   "cell_type": "code",
   "execution_count": null,
   "metadata": {},
   "outputs": [],
   "source": [
    "oo[oo['Athlete'] == 'LEWIS, Carl'].groupby(['Athlete','Medal','Event']).agg({'Edition' :['min','max','count']})"
   ]
  },
  {
   "cell_type": "markdown",
   "metadata": {},
   "source": [
    "#### Using groupby, plot the total number of medals awarded at each of the Olympic games throughout history "
   ]
  },
  {
   "cell_type": "code",
   "execution_count": null,
   "metadata": {},
   "outputs": [],
   "source": [
    "# oo_grouped = oo.groupby('Edition').size()\n",
    "oo_grouped = oo.groupby('Edition').agg({'Medal':'count'})\n",
    "oo_grouped.plot();"
   ]
  },
  {
   "cell_type": "markdown",
   "metadata": {},
   "source": [
    "#### Create a list showing the total number of medals won for each country over the history of the Olympics. For each country, include the year of the first and the most recent Olympic medal wins."
   ]
  },
  {
   "cell_type": "code",
   "execution_count": null,
   "metadata": {},
   "outputs": [],
   "source": [
    "oo.groupby('NOC').agg({'Edition' :['min','max','count']}).head()"
   ]
  },
  {
   "cell_type": "markdown",
   "metadata": {},
   "source": [
    "### Reshaping"
   ]
  },
  {
   "cell_type": "code",
   "execution_count": null,
   "metadata": {},
   "outputs": [],
   "source": [
    "mw = oo[(oo['Edition'] == 2008) & ((oo['Event'] == '100m') | (oo['Event'] == '200m'))]\n",
    "mw.head()"
   ]
  },
  {
   "cell_type": "code",
   "execution_count": null,
   "metadata": {},
   "outputs": [],
   "source": [
    "g = mw.groupby(['NOC','Gender','Discipline','Event']).size()\n",
    "g"
   ]
  },
  {
   "cell_type": "markdown",
   "metadata": {},
   "source": [
    "##### Unstack --> move series' (Discipline & Event) to columns"
   ]
  },
  {
   "cell_type": "code",
   "execution_count": null,
   "metadata": {},
   "outputs": [],
   "source": [
    "g.unstack(['Discipline','Event'], fill_value=0)"
   ]
  },
  {
   "cell_type": "markdown",
   "metadata": {},
   "source": [
    "#### Plot the number of gold medals won by the USA male and female athletes throughout the history of the Olympics."
   ]
  },
  {
   "cell_type": "code",
   "execution_count": null,
   "metadata": {},
   "outputs": [],
   "source": [
    "usa_gold = oo[(oo['NOC'] == 'USA') & (oo['Medal'] == 'Gold')]\n",
    "usa_gold_mw = usa_gold.groupby(['Edition', 'Gender']).size()\n",
    "usa_gold_mw.unstack('Gender', fill_value=0).plot();\n",
    "type(usa_gold)"
   ]
  },
  {
   "cell_type": "markdown",
   "metadata": {},
   "source": [
    "#### Plot the five athletes who have won the most gold medals over the history of the Olympics. When there is a tie, consider the number of silver medals and then bronze medals."
   ]
  },
  {
   "cell_type": "code",
   "execution_count": null,
   "metadata": {},
   "outputs": [],
   "source": [
    "all_medals = oo.groupby(['Athlete','Medal']).size().unstack('Medal', fill_value=0)\n",
    "all_medals.sort_values(['Gold','Silver','Bronze'], ascending=False)[['Gold','Silver','Bronze']].head().plot(kind='bar')"
   ]
  },
  {
   "cell_type": "markdown",
   "metadata": {},
   "source": [
    "#### .loc --> Access a group of rows and columns by label(s) or a boolean array: [ r , c ]"
   ]
  },
  {
   "cell_type": "code",
   "execution_count": null,
   "metadata": {},
   "outputs": [],
   "source": [
    "oo.loc[:,'Edition'].head(3)\n"
   ]
  },
  {
   "cell_type": "markdown",
   "metadata": {},
   "source": [
    "### Data Visualizations"
   ]
  },
  {
   "cell_type": "markdown",
   "metadata": {},
   "source": [
    "#### Heatmaps"
   ]
  },
  {
   "cell_type": "code",
   "execution_count": null,
   "metadata": {},
   "outputs": [],
   "source": [
    "all_medals = oo.groupby(['NOC','Medal']).size().unstack('Medal', fill_value=0)\n",
    "all_medals_sorted = all_medals.sort_values(['Gold','Silver','Bronze'], ascending=False)[['Gold','Silver','Bronze']].head(25);"
   ]
  },
  {
   "cell_type": "code",
   "execution_count": null,
   "metadata": {},
   "outputs": [],
   "source": [
    "t = all_medals_sorted.transpose()\n",
    "sns.heatmap(t);"
   ]
  },
  {
   "cell_type": "markdown",
   "metadata": {},
   "source": [
    "#### Colormaps"
   ]
  },
  {
   "cell_type": "code",
   "execution_count": null,
   "metadata": {},
   "outputs": [],
   "source": [
    "all_medals = oo.groupby(['Athlete','Medal']).size().unstack('Medal', fill_value=0)\n",
    "sorted = all_medals.sort_values(['Gold','Silver','Bronze'], ascending=False)[['Gold','Silver','Bronze']].head().plot(kind='bar')"
   ]
  },
  {
   "cell_type": "code",
   "execution_count": null,
   "metadata": {},
   "outputs": [],
   "source": [
    "gsb = ['#dbb40c','#c5c9c7','#a87900']\n",
    "my_pal = sns.palplot(sns.color_palette(gsb))"
   ]
  },
  {
   "cell_type": "code",
   "execution_count": null,
   "metadata": {},
   "outputs": [],
   "source": [
    "all_medals = oo.groupby(['Athlete','Medal']).size().unstack('Medal', fill_value=0)\n",
    "all_medals = all_medals.sort_values(['Gold','Silver','Bronze'], ascending=False)[['Gold','Silver','Bronze']].head()\n",
    "all_medals.plot(kind='bar', colormap=my_pal);"
   ]
  },
  {
   "cell_type": "markdown",
   "metadata": {},
   "source": [
    "## Final Challenge"
   ]
  },
  {
   "cell_type": "markdown",
   "metadata": {},
   "source": [
    "#### Problem"
   ]
  },
  {
   "cell_type": "markdown",
   "metadata": {},
   "source": [
    "#### in every Olympics, which US athlete has won the most total number of medals? Include athlete's discipline."
   ]
  },
  {
   "cell_type": "code",
   "execution_count": null,
   "metadata": {},
   "outputs": [],
   "source": [
    "usam = oo[oo['NOC'] == 'USA']\n",
    "usam = usam.groupby(['Edition','Athlete','Medal']).size().unstack('Medal',fill_value=0)\n",
    "usam['Total'] = usam['Gold'] + usam['Silver'] + usam['Bronze']\n",
    "# usam.reset_index(inplace=True)\n",
    "tu = [group.sort_values('Total',ascending=False)[:1] for year,group in usam.groupby('Edition')]\n",
    "med = pd.DataFrame()\n",
    "for i in tu:\n",
    "    med = med.append(i)\n",
    "med     "
   ]
  }
 ],
 "metadata": {
  "kernelspec": {
   "display_name": "Python 3",
   "language": "python",
   "name": "python3"
  },
  "language_info": {
   "codemirror_mode": {
    "name": "ipython",
    "version": 3
   },
   "file_extension": ".py",
   "mimetype": "text/x-python",
   "name": "python",
   "nbconvert_exporter": "python",
   "pygments_lexer": "ipython3",
   "version": "3.6.4"
  }
 },
 "nbformat": 4,
 "nbformat_minor": 2
}
